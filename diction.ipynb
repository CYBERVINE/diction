{
 "cells": [
  {
   "cell_type": "code",
   "execution_count": 2,
   "metadata": {},
   "outputs": [
    {
     "data": {
      "text/plain": [
       "'AARDVARK'"
      ]
     },
     "execution_count": 2,
     "metadata": {},
     "output_type": "execute_result"
    }
   ],
   "source": [
    "words_file = open(\"/usr/share/dict/words\", \"r\")\n",
    "word_list = [line.strip() for line in words_file.readlines()]\n",
    "word_list = [word.upper() for word in word_list]\n",
    "word_list[7]"
   ]
  },
  {
   "cell_type": "code",
   "execution_count": 3,
   "metadata": {},
   "outputs": [
    {
     "name": "stdout",
     "output_type": "stream",
     "text": [
      "['BUMBLEPUPPY', 'CAPPY', 'CHAPPY', 'CHIPPY', 'CHOPPY', 'COPPY', 'CROPPY', 'CUPPY', 'DRIPPY', 'DROPPY', 'DUPPY', 'EPPY', 'FLOPPY', 'FOPPY', 'GAPPY', 'GIPPY', 'GRIPPY', 'GUPPY', 'HAPPY', 'HIPPY', 'HOPPY', 'KIPPY', 'KNOPPY', 'LIPPY', 'LOPPY', 'MAPPY', 'MILKSOPPY', 'MOPPY', 'NAPPY', 'NIPPY', 'OVERHAPPY', 'PAPPY', 'PEPPY', 'PIPPY', 'POPPY', 'PUPPY', 'QUIPPY', 'SAPPY', 'SCRAPPY', 'SHIPPY', 'SHOPPY', 'SKIPPY', 'SLAPHAPPY', 'SLIPPY', 'SLOPPY', 'SNAPPY', 'SNIPPY', 'SOPPY', 'TIPPY', 'TOPPY', 'TRAPPY', 'UNHAPPY', 'UNSAPPY', 'WHIPPY', 'YAPPY', 'ZIPPY']\n",
      "This is the alphabetical dictionary /n {'B': ['BUMBLEPUPPY'], 'C': ['CAPPY', 'CHAPPY', 'CHIPPY', 'CHOPPY', 'COPPY', 'CROPPY', 'CUPPY'], 'D': ['DRIPPY', 'DROPPY', 'DUPPY'], 'E': ['EPPY'], 'F': ['FLOPPY', 'FOPPY'], 'G': ['GAPPY', 'GIPPY', 'GRIPPY', 'GUPPY'], 'H': ['HAPPY', 'HIPPY', 'HOPPY'], 'K': ['KIPPY', 'KNOPPY'], 'L': ['LIPPY', 'LOPPY'], 'M': ['MAPPY', 'MILKSOPPY', 'MOPPY'], 'N': ['NAPPY', 'NIPPY'], 'O': ['OVERHAPPY'], 'P': ['PAPPY', 'PEPPY', 'PIPPY', 'POPPY', 'PUPPY'], 'Q': ['QUIPPY'], 'S': ['SAPPY', 'SCRAPPY', 'SHIPPY', 'SHOPPY', 'SKIPPY', 'SLAPHAPPY', 'SLIPPY', 'SLOPPY', 'SNAPPY', 'SNIPPY', 'SOPPY'], 'T': ['TIPPY', 'TOPPY', 'TRAPPY'], 'U': ['UNHAPPY', 'UNSAPPY'], 'W': ['WHIPPY'], 'Y': ['YAPPY'], 'Z': 'ZIPPY'}\n"
     ]
    }
   ],
   "source": [
    "rhyme_word = 'happy'\n",
    "rhyme_word = rhyme_word.upper()\n",
    "rhyme_list = []\n",
    "rhyme_dict = {}\n",
    "\n",
    "for word in word_list:\n",
    "\n",
    "    if word[-3:] == rhyme_word[-3:]:\n",
    "        rhyme_list.append(word)\n",
    "    if len(rhyme_word) == 2:\n",
    "        if word[-2:] == rhyme_word:\n",
    "            rhyme_list.append(word)\n",
    "    if len(rhyme_word) == 1:\n",
    "        if word[-1:] == rhyme_word:\n",
    "            rhyme_list.append(word)\n",
    "\n",
    "print(\"This is the list of words that rhyme \\n\",rhyme_list)\n",
    "\n",
    "word_group = []\n",
    "\n",
    "for word in rhyme_list:\n",
    "\n",
    "    if word_group == []:\n",
    "        word_group.append(word)\n",
    "        \n",
    "    elif word_group != []:\n",
    "        \n",
    "        if word_group[0][:1] == word[:1]:\n",
    "            word_group.append(word)\n",
    "\n",
    "        else:\n",
    "            rhyme_dict[word_group[0][:1]] = word_group  \n",
    "            word_group = []\n",
    "            word_group.append(word)\n",
    "    \n",
    "    if word == rhyme_list[-1]:\n",
    "        rhyme_dict[word[:1]] = word\n",
    "\n",
    "print(\"This is searchable alphabetical dictionary \\n\",rhyme_dict)\n"
   ]
  },
  {
   "cell_type": "code",
   "execution_count": 83,
   "metadata": {},
   "outputs": [
    {
     "data": {
      "text/plain": [
       "['BUMBLEPUPPY']"
      ]
     },
     "execution_count": 83,
     "metadata": {},
     "output_type": "execute_result"
    }
   ],
   "source": [
    "requested_letter = \"b\"\n",
    "requested_letter = requested_letter.upper()\n",
    "rhyme_dict[requested_letter]"
   ]
  }
 ],
 "metadata": {
  "kernelspec": {
   "display_name": "Python 3",
   "language": "python",
   "name": "python3"
  },
  "language_info": {
   "codemirror_mode": {
    "name": "ipython",
    "version": 3
   },
   "file_extension": ".py",
   "mimetype": "text/x-python",
   "name": "python",
   "nbconvert_exporter": "python",
   "pygments_lexer": "ipython3",
   "version": "3.8.2"
  },
  "orig_nbformat": 4
 },
 "nbformat": 4,
 "nbformat_minor": 2
}
